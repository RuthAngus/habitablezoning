{
 "cells": [
  {
   "cell_type": "markdown",
   "metadata": {},
   "source": [
    "# Crossmatch habitable zone targets with the CKS sample, Gaia DR2 and my own rotation period catalogue."
   ]
  },
  {
   "cell_type": "code",
   "execution_count": null,
   "metadata": {},
   "outputs": [
    {
     "name": "stderr",
     "output_type": "stream",
     "text": [
      "WARNING:root:PyMultiNest not imported.  MultiNest fits will not work.\n",
      "/Users/ruthangus/anaconda/lib/python3.5/site-packages/isochrones-1.2.2.dev0-py3.5.egg/isochrones/mist/grid.py:193: DtypeWarning: Columns (8) have mixed types. Specify dtype option on import or set low_memory=False.\n",
      "  df = super(MISTModelGrid, self).df_all(phot)\n",
      "/Users/ruthangus/anaconda/lib/python3.5/site-packages/pandas/core/generic.py:1471: PerformanceWarning: \n",
      "your performance may suffer as PyTables will pickle object types that it cannot\n",
      "map directly to c-types [inferred_type->mixed,key->block2_values] [items->['[Fe/H]']]\n",
      "\n",
      "  return pytables.to_hdf(path_or_buf, key, self, **kwargs)\n"
     ]
    }
   ],
   "source": [
    "import numpy as np\n",
    "import matplotlib.pyplot as plt\n",
    "%matplotlib inline\n",
    "import pandas as pd\n",
    "from astropy.io import fits\n",
    "from astropy.table import Table\n",
    "# import chronology as ch"
   ]
  },
  {
   "cell_type": "markdown",
   "metadata": {},
   "source": [
    "Load Stephen Kane's list of targets, the CKS catalogue, the McQuillan catalogue, my own rotation period catalogue and Gaia DR2."
   ]
  },
  {
   "cell_type": "code",
   "execution_count": 2,
   "metadata": {},
   "outputs": [
    {
     "name": "stderr",
     "output_type": "stream",
     "text": [
      "/Users/ruthangus/anaconda/lib/python3.5/site-packages/IPython/core/interactiveshell.py:2881: TableReplaceWarning: converted column 'teff_err1' from integer to float\n",
      "  exec(code_obj, self.user_global_ns, self.user_ns)\n",
      "/Users/ruthangus/anaconda/lib/python3.5/site-packages/IPython/core/interactiveshell.py:2881: TableReplaceWarning: converted column 'teff_err2' from integer to float\n",
      "  exec(code_obj, self.user_global_ns, self.user_ns)\n"
     ]
    }
   ],
   "source": [
    "# Kane catalogue:\n",
    "kane = pd.read_csv(\"../data/kane_targets.csv\")\n",
    "\n",
    "# CKS catalogue:\n",
    "cks = pd.read_csv(\"../data/cks_physical_merged.csv\")\n",
    "\n",
    "# McQuillan catalogue:\n",
    "mc = pd.read_csv(\"../data/Table_1_Periodic.txt\")\n",
    "\n",
    "# Tim and my catalogue:\n",
    "tdmra = pd.read_csv(\"../data/koi_periods_0712.csv\")\n",
    "\n",
    "# Gaia DR2\n",
    "dat = Table.read('../data/kepler_dr2_4arcsec_updated.fits', format='fits')\n",
    "dr2 = dat.to_pandas()"
   ]
  },
  {
   "cell_type": "code",
   "execution_count": null,
   "metadata": {},
   "outputs": [],
   "source": [
    "cks.head()"
   ]
  },
  {
   "cell_type": "markdown",
   "metadata": {},
   "source": [
    "What's the overlap between Stephen Kane's catalogue and the CKS sample?"
   ]
  },
  {
   "cell_type": "code",
   "execution_count": 3,
   "metadata": {},
   "outputs": [
    {
     "name": "stdout",
     "output_type": "stream",
     "text": [
      "Index(['koi_id', 'planet_designation', 'p_orb_days', 'a_AU', 'r_pl_earth',\n",
      "       'teff', 'r_star_rsol', 'insolation_flux_F_E', 'KOI'],\n",
      "      dtype='object') \n",
      "\n",
      "Index(['id_starname', 'id_kic', 'id_koicand', 'id_kepler_name',\n",
      "       'koi_disposition', 'koi_period', 'koi_period_err1', 'koi_period_err2',\n",
      "       'koi_time0', 'koi_time0_err1',\n",
      "       ...\n",
      "       'iso_sma', 'iso_sma_err1', 'iso_sma_err2', 'iso_insol',\n",
      "       'iso_insol_err1', 'iso_insol_err2', 'iso_teq', 'iso_teq_err1',\n",
      "       'iso_teq_err2', 'koi_id'],\n",
      "      dtype='object', length=121)\n",
      "(1162, 9) (2025, 121) (617, 129)\n"
     ]
    }
   ],
   "source": [
    "# Format the CKS catalogue and Kane catalogue column headers.\n",
    "koi_ids = []\n",
    "for i in cks.id_koicand:\n",
    "    koi_ids.append(\"Kepler-{}\".format(int(float(i[1:]))))\n",
    "cks[\"koi_id\"] = koi_ids\n",
    "\n",
    "KOIs = np.zeros(np.shape(kane)[0], dtype=int)\n",
    "for j, i in enumerate(kane.koi_id):\n",
    "    if i[:7] == \"Kepler-\":\n",
    "        KOIs[j] = int((float(i[7:])))\n",
    "\n",
    "kane[\"KOI\"] = KOIs\n",
    "print(kane.keys(), \"\\n\")\n",
    "print(cks.keys())\n",
    "kane_cks = pd.merge(kane, cks, on=\"koi_id\", how=\"inner\", suffixes=[\"_KIC\", \"_CKS\"])\n",
    "print(np.shape(kane), np.shape(cks), np.shape(kane_cks))"
   ]
  },
  {
   "cell_type": "markdown",
   "metadata": {},
   "source": [
    "617 stars have CKS spectra. ,How many of these stars have rotation periods measured by Amy McQuillan?"
   ]
  },
  {
   "cell_type": "code",
   "execution_count": 4,
   "metadata": {},
   "outputs": [
    {
     "data": {
      "text/plain": [
       "(0, 140)"
      ]
     },
     "execution_count": 4,
     "metadata": {},
     "output_type": "execute_result"
    }
   ],
   "source": [
    "kane_cks_mc = pd.merge(kane_cks, mc, left_on=\"id_kic\", right_on=\"kepid\", how=\"inner\", suffixes=[\"\", \"_mc\"])\n",
    "np.shape(kane_cks_mc)"
   ]
  },
  {
   "cell_type": "markdown",
   "metadata": {},
   "source": [
    "None... How about in Tim and my catalogue?"
   ]
  },
  {
   "cell_type": "code",
   "execution_count": 5,
   "metadata": {},
   "outputs": [
    {
     "name": "stdout",
     "output_type": "stream",
     "text": [
      "Index(['Unnamed: 0', 'KOI', 'feh', 'feh_errm', 'feh_errp', 'logg', 'logg_errm',\n",
      "       'logg_errp', 'period', 'period_errm', 'period_errp', 'teff',\n",
      "       'teff_errm', 'teff_errp'],\n",
      "      dtype='object')\n"
     ]
    }
   ],
   "source": [
    "print(tdmra.keys())"
   ]
  },
  {
   "cell_type": "code",
   "execution_count": 6,
   "metadata": {},
   "outputs": [
    {
     "data": {
      "text/plain": [
       "(552, 142)"
      ]
     },
     "execution_count": 6,
     "metadata": {},
     "output_type": "execute_result"
    }
   ],
   "source": [
    "kane_cks_tdmra = pd.merge(kane_cks, tdmra, on=\"KOI\", how=\"inner\", suffixes=[\"\", \"_tdmra\"])\n",
    "np.shape(kane_cks_tdmra)"
   ]
  },
  {
   "cell_type": "markdown",
   "metadata": {},
   "source": [
    "How many of these have Gaia DR2 distances?"
   ]
  },
  {
   "cell_type": "code",
   "execution_count": 7,
   "metadata": {},
   "outputs": [
    {
     "name": "stderr",
     "output_type": "stream",
     "text": [
      "/Users/ruthangus/anaconda/lib/python3.5/site-packages/ipykernel/__main__.py:9: SettingWithCopyWarning: \n",
      "A value is trying to be set on a copy of a slice from a DataFrame.\n",
      "Try using .loc[row_indexer,col_indexer] = value instead\n",
      "\n",
      "See the caveats in the documentation: http://pandas.pydata.org/pandas-docs/stable/indexing.html#indexing-view-versus-copy\n"
     ]
    },
    {
     "name": "stdout",
     "output_type": "stream",
     "text": [
      "(546, 244)\n"
     ]
    }
   ],
   "source": [
    "# Make cuts on parallax signal-to-noise\n",
    "m = 10 < dr2.parallax_over_error.values  # Signal to noise greater than 10\n",
    "gdr2 = dr2.iloc[m]\n",
    "\n",
    "gdr2.kepid.values[0]\n",
    "int_kepid = []\n",
    "for i in gdr2.kepid.values:\n",
    "    int_kepid.append(int(i))\n",
    "gdr2[\"int_kepid\"] = np.array(int_kepid, dtype=int)\n",
    "\n",
    "kane_cks_tdmra_dr2 = pd.merge(kane_cks_tdmra, gdr2, left_on=\"id_kic\", right_on=\"int_kepid\", how=\"inner\")\n",
    "print(np.shape(kane_cks_tdmra_dr2))\n",
    "\n",
    "kane_cks_tdmra_dr2.to_csv(\"kane_cks_tdmra_dr2.csv\")"
   ]
  },
  {
   "cell_type": "code",
   "execution_count": 26,
   "metadata": {},
   "outputs": [
    {
     "name": "stdout",
     "output_type": "stream",
     "text": [
      "\n",
      " 19.493700177100767\n",
      "\n",
      " 16.77909257623627\n"
     ]
    },
    {
     "data": {
      "image/png": "[encoded data removed]",
      "text/plain": [
       "<matplotlib.figure.Figure at 0x1a7154b400>"
      ]
     },
     "metadata": {},
     "output_type": "display_data"
    },
    {
     "data": {
      "image/png": "[encoded data removed]",
      "text/plain": [
       "<matplotlib.figure.Figure at 0x1a70984c18>"
      ]
     },
     "metadata": {},
     "output_type": "display_data"
    }
   ],
   "source": [
    "from lightkurve import search_targetpixelfile\n",
    "\n",
    "for i in range(len(range(2))):#kane_cks_tdmra_dr2)):\n",
    "    kepid = kane_cks_tdmra_dr2.id_kic.values[i]\n",
    "    period = kane_cks_tdmra_dr2.period.values[i]\n",
    "    \n",
    "    print(\"\\n {}\".format(period))\n",
    "\n",
    "    pixelfile = search_targetpixelfile(kepid, quarter=2).download(quality_bitmask='hardest');\n",
    "\n",
    "    lc = pixelfile.to_lightcurve(aperture_mask='all');\n",
    "    lc.plot()"
   ]
  },
  {
   "cell_type": "code",
   "execution_count": 23,
   "metadata": {},
   "outputs": [
    {
     "name": "stdout",
     "output_type": "stream",
     "text": [
      "8.88492268\n",
      "2.07864\n",
      "19.493700177100767\n"
     ]
    }
   ],
   "source": [
    "print(kane_cks_tdmra_dr2.koi_period.values[0])\n",
    "print(kane_cks_tdmra_dr2.koi_duration.values[0])\n",
    "print(kane_cks_tdmra_dr2.period.values[0])"
   ]
  },
  {
   "cell_type": "markdown",
   "metadata": {},
   "source": [
    "So there are 546 stars with spectroscopic properties, distances AND rotation periods. The next thing to do is to combine all this information using isochrones and a gyrochronology model."
   ]
  },
  {
   "cell_type": "code",
   "execution_count": 14,
   "metadata": {},
   "outputs": [
    {
     "name": "stdout",
     "output_type": "stream",
     "text": [
      "Unnamed: 0\n",
      "koi_id\n",
      "planet_designation\n",
      "p_orb_days\n",
      "a_AU\n",
      "r_pl_earth\n",
      "teff_x\n",
      "r_star_rsol\n",
      "insolation_flux_F_E\n",
      "KOI\n",
      "id_starname\n",
      "id_kic\n",
      "id_koicand\n",
      "id_kepler_name\n",
      "koi_disposition\n",
      "koi_period\n",
      "koi_period_err1\n",
      "koi_period_err2\n",
      "koi_time0\n",
      "koi_time0_err1\n",
      "koi_time0_err2\n",
      "koi_impact\n",
      "koi_impact_err1\n",
      "koi_impact_err2\n",
      "koi_duration\n",
      "koi_duration_err1\n",
      "koi_duration_err2\n",
      "koi_ingress\n",
      "koi_ingress_err1\n",
      "koi_ingress_err2\n",
      "koi_depth\n",
      "koi_depth_err1\n",
      "koi_depth_err2\n",
      "koi_ror\n",
      "koi_ror_err1\n",
      "koi_ror_err2\n",
      "koi_srho\n",
      "koi_srho_err1\n",
      "koi_srho_err2\n",
      "koi_prad\n",
      "koi_prad_err1\n",
      "koi_prad_err2\n",
      "koi_sma\n",
      "koi_sma_err1\n",
      "koi_sma_err2\n",
      "koi_teq\n",
      "koi_teq_err1\n",
      "koi_teq_err2\n",
      "koi_insol\n",
      "koi_insol_err1\n",
      "koi_insol_err2\n",
      "koi_dor\n",
      "koi_dor_err1\n",
      "koi_dor_err2\n",
      "koi_max_mult_ev\n",
      "koi_model_snr\n",
      "koi_count\n",
      "koi_num_transits\n",
      "koi_steff\n",
      "koi_steff_err1\n",
      "koi_steff_err2\n",
      "koi_slogg\n",
      "koi_slogg_err1\n",
      "koi_slogg_err2\n",
      "koi_smet\n",
      "koi_smet_err1\n",
      "koi_smet_err2\n",
      "koi_srad\n",
      "koi_srad_err1\n",
      "koi_srad_err2\n",
      "koi_smass\n",
      "koi_smass_err1\n",
      "koi_smass_err2\n",
      "koi_sage\n",
      "koi_sage_err1\n",
      "koi_sage_err2\n",
      "koi_sparprov\n",
      "kic_kepmag\n",
      "kic_jmag\n",
      "kic_hmag\n",
      "kic_kmag\n",
      "cks_fp\n",
      "cks_steff\n",
      "cks_steff_err1\n",
      "cks_steff_err2\n",
      "cks_slogg\n",
      "cks_slogg_err1\n",
      "cks_slogg_err2\n",
      "cks_smet\n",
      "cks_smet_err1\n",
      "cks_smet_err2\n",
      "cks_svsini\n",
      "cks_svsini_err1\n",
      "cks_svsini_err2\n",
      "iso_steff\n",
      "iso_steff_err1\n",
      "iso_steff_err2\n",
      "iso_slogg\n",
      "iso_slogg_err1\n",
      "iso_slogg_err2\n",
      "iso_smet\n",
      "iso_smet_err1\n",
      "iso_smet_err2\n",
      "iso_srad\n",
      "iso_srad_err1\n",
      "iso_srad_err2\n",
      "iso_smass\n",
      "iso_smass_err1\n",
      "iso_smass_err2\n",
      "iso_sage\n",
      "iso_sage_err1\n",
      "iso_sage_err2\n",
      "iso_slogage\n",
      "iso_slogage_err1\n",
      "iso_slogage_err2\n",
      "iso_sparallax\n",
      "iso_sparallax_err1\n",
      "iso_sparallax_err2\n",
      "iso_prad\n",
      "iso_prad_err1\n",
      "iso_prad_err2\n",
      "iso_sma\n",
      "iso_sma_err1\n",
      "iso_sma_err2\n",
      "iso_insol\n",
      "iso_insol_err1\n",
      "iso_insol_err2\n",
      "iso_teq\n",
      "iso_teq_err1\n",
      "iso_teq_err2\n",
      "Unnamed: 0.1\n",
      "feh_x\n",
      "feh_errm\n",
      "feh_errp\n",
      "logg_x\n",
      "logg_errm\n",
      "logg_errp\n",
      "period\n",
      "period_errm\n",
      "period_errp\n",
      "teff_tdmra\n",
      "teff_errm\n",
      "teff_errp\n",
      "designation\n",
      "source_id\n",
      "gaia_ref_epoch\n",
      "ra\n",
      "ra_error\n",
      "dec\n",
      "dec_error\n",
      "parallax\n",
      "parallax_error\n",
      "parallax_over_error\n",
      "pmra\n",
      "pmra_error\n",
      "pmdec\n",
      "pmdec_error\n",
      "ra_dec_corr\n",
      "ra_parallax_corr\n",
      "ra_pmra_corr\n",
      "ra_pmdec_corr\n",
      "dec_parallax_corr\n",
      "dec_pmra_corr\n",
      "dec_pmdec_corr\n",
      "parallax_pmra_corr\n",
      "parallax_pmdec_corr\n",
      "pmra_pmdec_corr\n",
      "astrometric_chi2_al\n",
      "astrometric_excess_noise\n",
      "astrometric_excess_noise_sig\n",
      "astrometric_primary_flag\n",
      "duplicated_source\n",
      "phot_g_mean_flux\n",
      "phot_g_mean_flux_error\n",
      "phot_g_mean_mag\n",
      "phot_bp_mean_flux\n",
      "phot_bp_mean_flux_error\n",
      "phot_bp_mean_mag\n",
      "phot_rp_mean_flux\n",
      "phot_rp_mean_flux_error\n",
      "phot_rp_mean_mag\n",
      "bp_rp\n",
      "bp_g\n",
      "g_rp\n",
      "radial_velocity\n",
      "radial_velocity_error\n",
      "phot_variable_flag\n",
      "l\n",
      "b\n",
      "ecl_lon\n",
      "ecl_lat\n",
      "teff_val\n",
      "teff_percentile_lower\n",
      "teff_percentile_upper\n",
      "a_g_val\n",
      "a_g_percentile_lower\n",
      "a_g_percentile_upper\n",
      "e_bp_min_rp_val\n",
      "e_bp_min_rp_percentile_lower\n",
      "e_bp_min_rp_percentile_upper\n",
      "radius_val\n",
      "radius_percentile_lower\n",
      "radius_percentile_upper\n",
      "lum_val\n",
      "lum_percentile_lower\n",
      "lum_percentile_upper\n",
      "r_est\n",
      "r_lo\n",
      "r_hi\n",
      "r_length_prior\n",
      "r_result_flag\n",
      "r_modality_flag\n",
      "kepid\n",
      "tm_designation\n",
      "ra_kepler\n",
      "dec_kepler\n",
      "kepmag\n",
      "teff_y\n",
      "teff_err1\n",
      "teff_err2\n",
      "teff_prov\n",
      "logg_y\n",
      "logg_err1\n",
      "logg_err2\n",
      "logg_prov\n",
      "feh_y\n",
      "feh_err1\n",
      "feh_err2\n",
      "feh_prov\n",
      "radius\n",
      "radius_err1\n",
      "radius_err2\n",
      "mass\n",
      "mass_err1\n",
      "mass_err2\n",
      "prov_sec\n",
      "nconfp\n",
      "nkoi\n",
      "ntce\n",
      "jmag\n",
      "hmag\n",
      "kmag\n",
      "planet?\n",
      "kepler_gaia_ang_dist\n",
      "int_kepid\n"
     ]
    }
   ],
   "source": [
    "df = pd.read_csv(\"kane_cks_tdmra_dr2.csv\")\n",
    "for k in df.keys():\n",
    "    print(k)"
   ]
  },
  {
   "cell_type": "code",
   "execution_count": 15,
   "metadata": {},
   "outputs": [
    {
     "name": "stdout",
     "output_type": "stream",
     "text": [
      "0 of 546\n",
      "kepid =  000757450\n"
     ]
    },
    {
     "name": "stderr",
     "output_type": "stream",
     "text": [
      "  0%|          | 74/100000 [00:01<26:28, 62.90it/s]/Users/ruthangus/anaconda/lib/python3.5/site-packages/isochrones-1.2.2.dev0-py3.5.egg/isochrones/starmodel.py:523: RuntimeWarning: divide by zero encountered in log\n",
      "  mass_lnprior = np.log(self.prior('mass', masses[0]))\n",
      "100%|██████████| 100000/100000 [1:08:11<00:00, 24.44it/s] \n"
     ]
    },
    {
     "name": "stdout",
     "output_type": "stream",
     "text": [
      "nsteps =  100000 burnin =  10000\n",
      "Plotting age posterior\n",
      "Plotting production chains...\n",
      "Making corner plot...\n",
      "1 of 546\n",
      "kepid =  006029239\n"
     ]
    },
    {
     "name": "stderr",
     "output_type": "stream",
     "text": [
      "  0%|          | 74/100000 [00:01<24:37, 67.63it/s]/Users/ruthangus/anaconda/lib/python3.5/site-packages/isochrones-1.2.2.dev0-py3.5.egg/isochrones/starmodel.py:523: RuntimeWarning: divide by zero encountered in log\n",
      "  mass_lnprior = np.log(self.prior('mass', masses[0]))\n",
      " 62%|██████▏   | 62000/100000 [27:50<17:03, 37.12it/s]    \n"
     ]
    },
    {
     "name": "stdout",
     "output_type": "stream",
     "text": [
      "nsteps =  62000 burnin =  10000\n",
      "Plotting age posterior\n",
      "Plotting production chains...\n",
      "Making corner plot...\n",
      "2 of 546\n",
      "kepid =  006029239\n"
     ]
    },
    {
     "name": "stderr",
     "output_type": "stream",
     "text": [
      "  0%|          | 68/100000 [00:00<23:06, 72.05it/s]/Users/ruthangus/anaconda/lib/python3.5/site-packages/isochrones-1.2.2.dev0-py3.5.egg/isochrones/starmodel.py:523: RuntimeWarning: divide by zero encountered in log\n",
      "  mass_lnprior = np.log(self.prior('mass', masses[0]))\n",
      " 62%|██████▏   | 62000/100000 [25:20<15:32, 40.77it/s]  \n"
     ]
    },
    {
     "name": "stdout",
     "output_type": "stream",
     "text": [
      "nsteps =  62000 burnin =  10000\n",
      "Plotting age posterior\n",
      "Plotting production chains...\n",
      "Making corner plot...\n",
      "3 of 546\n",
      "kepid =  008041216\n"
     ]
    },
    {
     "name": "stderr",
     "output_type": "stream",
     "text": [
      "  0%|          | 69/100000 [00:01<24:20, 68.44it/s]/Users/ruthangus/anaconda/lib/python3.5/site-packages/isochrones-1.2.2.dev0-py3.5.egg/isochrones/starmodel.py:523: RuntimeWarning: divide by zero encountered in log\n",
      "  mass_lnprior = np.log(self.prior('mass', masses[0]))\n",
      " 22%|██▏       | 22100/100000 [06:23<22:30, 57.70it/s]  \n"
     ]
    },
    {
     "name": "stdout",
     "output_type": "stream",
     "text": [
      "nsteps =  22100 burnin =  10000\n",
      "Plotting age posterior\n",
      "Plotting production chains...\n",
      "Making corner plot...\n",
      "4 of 546\n",
      "kepid =  012105051\n"
     ]
    },
    {
     "name": "stderr",
     "output_type": "stream",
     "text": [
      "  0%|          | 69/100000 [00:00<23:06, 72.07it/s]/Users/ruthangus/anaconda/lib/python3.5/site-packages/isochrones-1.2.2.dev0-py3.5.egg/isochrones/starmodel.py:523: RuntimeWarning: divide by zero encountered in log\n",
      "  mass_lnprior = np.log(self.prior('mass', masses[0]))\n",
      " 78%|███████▊  | 78200/100000 [38:17<10:40, 34.04it/s]  \n"
     ]
    },
    {
     "ename": "KeyboardInterrupt",
     "evalue": "",
     "output_type": "error",
     "traceback": [
      "\u001b[0;31m---------------------------------------------------------------------------\u001b[0m",
      "\u001b[0;31mKeyboardInterrupt\u001b[0m                         Traceback (most recent call last)",
      "\u001b[0;32m<ipython-input-15-12ae7f14f6f0>\u001b[0m in \u001b[0;36m<module>\u001b[0;34m()\u001b[0m\n\u001b[1;32m     20\u001b[0m \u001b[0;34m\u001b[0m\u001b[0m\n\u001b[1;32m     21\u001b[0m     \u001b[0mst\u001b[0m \u001b[0;34m=\u001b[0m \u001b[0mch\u001b[0m\u001b[0;34m.\u001b[0m\u001b[0mstar\u001b[0m\u001b[0;34m(\u001b[0m\u001b[0miso_params\u001b[0m\u001b[0;34m,\u001b[0m \u001b[0mprot\u001b[0m\u001b[0;34m[\u001b[0m\u001b[0mi\u001b[0m\u001b[0;34m]\u001b[0m\u001b[0;34m,\u001b[0m \u001b[0mprot_err\u001b[0m\u001b[0;34m[\u001b[0m\u001b[0mi\u001b[0m\u001b[0;34m]\u001b[0m\u001b[0;34m,\u001b[0m \u001b[0msavedir\u001b[0m\u001b[0;34m=\u001b[0m\u001b[0msavedir\u001b[0m\u001b[0;34m,\u001b[0m \u001b[0msuffix\u001b[0m\u001b[0;34m=\u001b[0m\u001b[0mstr\u001b[0m\u001b[0;34m(\u001b[0m\u001b[0mid\u001b[0m\u001b[0;34m)\u001b[0m\u001b[0;34m.\u001b[0m\u001b[0mzfill\u001b[0m\u001b[0;34m(\u001b[0m\u001b[0;36m9\u001b[0m\u001b[0;34m)\u001b[0m\u001b[0;34m)\u001b[0m\u001b[0;34m\u001b[0m\u001b[0m\n\u001b[0;32m---> 22\u001b[0;31m     \u001b[0msampler\u001b[0m \u001b[0;34m=\u001b[0m \u001b[0mst\u001b[0m\u001b[0;34m.\u001b[0m\u001b[0mfit\u001b[0m\u001b[0;34m(\u001b[0m\u001b[0;34m)\u001b[0m\u001b[0;34m\u001b[0m\u001b[0m\n\u001b[0m\u001b[1;32m     23\u001b[0m \u001b[0;34m\u001b[0m\u001b[0m\n\u001b[1;32m     24\u001b[0m     \u001b[0mst\u001b[0m\u001b[0;34m.\u001b[0m\u001b[0mmake_plots\u001b[0m\u001b[0;34m(\u001b[0m\u001b[0;34m)\u001b[0m\u001b[0;34m\u001b[0m\u001b[0m\n",
      "\u001b[0;32m/Users/ruthangus/projects/stardate/code/chronology.py\u001b[0m in \u001b[0;36mfit\u001b[0;34m(self, inits, nwalkers, max_n, iso_only)\u001b[0m\n\u001b[1;32m     92\u001b[0m         \u001b[0;31m# Run the MCMC\u001b[0m\u001b[0;34m\u001b[0m\u001b[0;34m\u001b[0m\u001b[0m\n\u001b[1;32m     93\u001b[0m         sampler = run_mcmc(self.iso_params, args, p_init, backend, ndim=ndim,\n\u001b[0;32m---> 94\u001b[0;31m                            nwalkers=nwalkers, max_n=max_n)\n\u001b[0m\u001b[1;32m     95\u001b[0m \u001b[0;34m\u001b[0m\u001b[0m\n\u001b[1;32m     96\u001b[0m         \u001b[0mself\u001b[0m\u001b[0;34m.\u001b[0m\u001b[0msampler\u001b[0m \u001b[0;34m=\u001b[0m \u001b[0msampler\u001b[0m\u001b[0;34m\u001b[0m\u001b[0m\n",
      "\u001b[0;32m/Users/ruthangus/projects/stardate/code/lhf.py\u001b[0m in \u001b[0;36mrun_mcmc\u001b[0;34m(obs, args, p_init, backend, ndim, nwalkers, max_n)\u001b[0m\n\u001b[1;32m    183\u001b[0m         \u001b[0;31m# Using tol=0 means that we'll always get an estimate even\u001b[0m\u001b[0;34m\u001b[0m\u001b[0;34m\u001b[0m\u001b[0m\n\u001b[1;32m    184\u001b[0m         \u001b[0;31m# if it isn't trustworthy\u001b[0m\u001b[0;34m\u001b[0m\u001b[0;34m\u001b[0m\u001b[0m\n\u001b[0;32m--> 185\u001b[0;31m         \u001b[0mtau\u001b[0m \u001b[0;34m=\u001b[0m \u001b[0msampler\u001b[0m\u001b[0;34m.\u001b[0m\u001b[0mget_autocorr_time\u001b[0m\u001b[0;34m(\u001b[0m\u001b[0mtol\u001b[0m\u001b[0;34m=\u001b[0m\u001b[0;36m0\u001b[0m\u001b[0;34m)\u001b[0m\u001b[0;34m\u001b[0m\u001b[0m\n\u001b[0m\u001b[1;32m    186\u001b[0m         \u001b[0mautocorr\u001b[0m\u001b[0;34m[\u001b[0m\u001b[0mindex\u001b[0m\u001b[0;34m]\u001b[0m \u001b[0;34m=\u001b[0m \u001b[0mnp\u001b[0m\u001b[0;34m.\u001b[0m\u001b[0mmean\u001b[0m\u001b[0;34m(\u001b[0m\u001b[0mtau\u001b[0m\u001b[0;34m)\u001b[0m\u001b[0;34m\u001b[0m\u001b[0m\n\u001b[1;32m    187\u001b[0m         \u001b[0mindex\u001b[0m \u001b[0;34m+=\u001b[0m \u001b[0;36m1\u001b[0m\u001b[0;34m\u001b[0m\u001b[0m\n",
      "\u001b[0;32m/Users/ruthangus/anaconda/lib/python3.5/site-packages/emcee/ensemble.py\u001b[0m in \u001b[0;36mget_autocorr_time\u001b[0;34m(self, **kwargs)\u001b[0m\n\u001b[1;32m    476\u001b[0m \u001b[0;34m\u001b[0m\u001b[0m\n\u001b[1;32m    477\u001b[0m     \u001b[0;32mdef\u001b[0m \u001b[0mget_autocorr_time\u001b[0m\u001b[0;34m(\u001b[0m\u001b[0mself\u001b[0m\u001b[0;34m,\u001b[0m \u001b[0;34m**\u001b[0m\u001b[0mkwargs\u001b[0m\u001b[0;34m)\u001b[0m\u001b[0;34m:\u001b[0m\u001b[0;34m\u001b[0m\u001b[0m\n\u001b[0;32m--> 478\u001b[0;31m         \u001b[0;32mreturn\u001b[0m \u001b[0mself\u001b[0m\u001b[0;34m.\u001b[0m\u001b[0mbackend\u001b[0m\u001b[0;34m.\u001b[0m\u001b[0mget_autocorr_time\u001b[0m\u001b[0;34m(\u001b[0m\u001b[0;34m**\u001b[0m\u001b[0mkwargs\u001b[0m\u001b[0;34m)\u001b[0m\u001b[0;34m\u001b[0m\u001b[0m\n\u001b[0m\u001b[1;32m    479\u001b[0m     \u001b[0mget_autocorr_time\u001b[0m\u001b[0;34m.\u001b[0m\u001b[0m__doc__\u001b[0m \u001b[0;34m=\u001b[0m \u001b[0mBackend\u001b[0m\u001b[0;34m.\u001b[0m\u001b[0mget_autocorr_time\u001b[0m\u001b[0;34m.\u001b[0m\u001b[0m__doc__\u001b[0m\u001b[0;34m\u001b[0m\u001b[0m\n\u001b[1;32m    480\u001b[0m \u001b[0;34m\u001b[0m\u001b[0m\n",
      "\u001b[0;32m/Users/ruthangus/anaconda/lib/python3.5/site-packages/emcee/backends/backend.py\u001b[0m in \u001b[0;36mget_autocorr_time\u001b[0;34m(self, discard, thin, **kwargs)\u001b[0m\n\u001b[1;32m    142\u001b[0m \u001b[0;34m\u001b[0m\u001b[0m\n\u001b[1;32m    143\u001b[0m         \"\"\"\n\u001b[0;32m--> 144\u001b[0;31m         \u001b[0mx\u001b[0m \u001b[0;34m=\u001b[0m \u001b[0mself\u001b[0m\u001b[0;34m.\u001b[0m\u001b[0mget_chain\u001b[0m\u001b[0;34m(\u001b[0m\u001b[0mdiscard\u001b[0m\u001b[0;34m=\u001b[0m\u001b[0mdiscard\u001b[0m\u001b[0;34m,\u001b[0m \u001b[0mthin\u001b[0m\u001b[0;34m=\u001b[0m\u001b[0mthin\u001b[0m\u001b[0;34m)\u001b[0m\u001b[0;34m\u001b[0m\u001b[0m\n\u001b[0m\u001b[1;32m    145\u001b[0m         \u001b[0;32mreturn\u001b[0m \u001b[0mthin\u001b[0m \u001b[0;34m*\u001b[0m \u001b[0mautocorr\u001b[0m\u001b[0;34m.\u001b[0m\u001b[0mintegrated_time\u001b[0m\u001b[0;34m(\u001b[0m\u001b[0mx\u001b[0m\u001b[0;34m,\u001b[0m \u001b[0;34m**\u001b[0m\u001b[0mkwargs\u001b[0m\u001b[0;34m)\u001b[0m\u001b[0;34m\u001b[0m\u001b[0m\n\u001b[1;32m    146\u001b[0m \u001b[0;34m\u001b[0m\u001b[0m\n",
      "\u001b[0;32m/Users/ruthangus/anaconda/lib/python3.5/site-packages/emcee/backends/backend.py\u001b[0m in \u001b[0;36mget_chain\u001b[0;34m(self, **kwargs)\u001b[0m\n\u001b[1;32m     70\u001b[0m \u001b[0;34m\u001b[0m\u001b[0m\n\u001b[1;32m     71\u001b[0m         \"\"\"\n\u001b[0;32m---> 72\u001b[0;31m         \u001b[0;32mreturn\u001b[0m \u001b[0mself\u001b[0m\u001b[0;34m.\u001b[0m\u001b[0mget_value\u001b[0m\u001b[0;34m(\u001b[0m\u001b[0;34m\"chain\"\u001b[0m\u001b[0;34m,\u001b[0m \u001b[0;34m**\u001b[0m\u001b[0mkwargs\u001b[0m\u001b[0;34m)\u001b[0m\u001b[0;34m\u001b[0m\u001b[0m\n\u001b[0m\u001b[1;32m     73\u001b[0m \u001b[0;34m\u001b[0m\u001b[0m\n\u001b[1;32m     74\u001b[0m     \u001b[0;32mdef\u001b[0m \u001b[0mget_blobs\u001b[0m\u001b[0;34m(\u001b[0m\u001b[0mself\u001b[0m\u001b[0;34m,\u001b[0m \u001b[0;34m**\u001b[0m\u001b[0mkwargs\u001b[0m\u001b[0;34m)\u001b[0m\u001b[0;34m:\u001b[0m\u001b[0;34m\u001b[0m\u001b[0m\n",
      "\u001b[0;32m/Users/ruthangus/anaconda/lib/python3.5/site-packages/emcee/backends/hdf.py\u001b[0m in \u001b[0;36mget_value\u001b[0;34m(self, name, flat, thin, discard)\u001b[0m\n\u001b[1;32m    106\u001b[0m                 \u001b[0;32mreturn\u001b[0m \u001b[0;32mNone\u001b[0m\u001b[0;34m\u001b[0m\u001b[0m\n\u001b[1;32m    107\u001b[0m \u001b[0;34m\u001b[0m\u001b[0m\n\u001b[0;32m--> 108\u001b[0;31m             \u001b[0mv\u001b[0m \u001b[0;34m=\u001b[0m \u001b[0mg\u001b[0m\u001b[0;34m[\u001b[0m\u001b[0mname\u001b[0m\u001b[0;34m]\u001b[0m\u001b[0;34m[\u001b[0m\u001b[0mdiscard\u001b[0m\u001b[0;34m+\u001b[0m\u001b[0mthin\u001b[0m\u001b[0;34m-\u001b[0m\u001b[0;36m1\u001b[0m\u001b[0;34m:\u001b[0m\u001b[0mself\u001b[0m\u001b[0;34m.\u001b[0m\u001b[0miteration\u001b[0m\u001b[0;34m:\u001b[0m\u001b[0mthin\u001b[0m\u001b[0;34m]\u001b[0m\u001b[0;34m\u001b[0m\u001b[0m\n\u001b[0m\u001b[1;32m    109\u001b[0m             \u001b[0;32mif\u001b[0m \u001b[0mflat\u001b[0m\u001b[0;34m:\u001b[0m\u001b[0;34m\u001b[0m\u001b[0m\n\u001b[1;32m    110\u001b[0m                 \u001b[0ms\u001b[0m \u001b[0;34m=\u001b[0m \u001b[0mlist\u001b[0m\u001b[0;34m(\u001b[0m\u001b[0mv\u001b[0m\u001b[0;34m.\u001b[0m\u001b[0mshape\u001b[0m\u001b[0;34m[\u001b[0m\u001b[0;36m1\u001b[0m\u001b[0;34m:\u001b[0m\u001b[0;34m]\u001b[0m\u001b[0;34m)\u001b[0m\u001b[0;34m\u001b[0m\u001b[0m\n",
      "\u001b[0;32mh5py/_objects.pyx\u001b[0m in \u001b[0;36mh5py._objects.with_phil.wrapper (/Users/ilan/minonda/conda-bld/work/h5py/_objects.c:2696)\u001b[0;34m()\u001b[0m\n",
      "\u001b[0;32mh5py/_objects.pyx\u001b[0m in \u001b[0;36mh5py._objects.with_phil.wrapper (/Users/ilan/minonda/conda-bld/work/h5py/_objects.c:2654)\u001b[0;34m()\u001b[0m\n",
      "\u001b[0;32m/Users/ruthangus/anaconda/lib/python3.5/site-packages/h5py/_hl/dataset.py\u001b[0m in \u001b[0;36m__getitem__\u001b[0;34m(self, args)\u001b[0m\n\u001b[1;32m    480\u001b[0m         \u001b[0mmspace\u001b[0m \u001b[0;34m=\u001b[0m \u001b[0mh5s\u001b[0m\u001b[0;34m.\u001b[0m\u001b[0mcreate_simple\u001b[0m\u001b[0;34m(\u001b[0m\u001b[0mmshape\u001b[0m\u001b[0;34m)\u001b[0m\u001b[0;34m\u001b[0m\u001b[0m\n\u001b[1;32m    481\u001b[0m         \u001b[0mfspace\u001b[0m \u001b[0;34m=\u001b[0m \u001b[0mselection\u001b[0m\u001b[0;34m.\u001b[0m\u001b[0mid\u001b[0m\u001b[0;34m\u001b[0m\u001b[0m\n\u001b[0;32m--> 482\u001b[0;31m         \u001b[0mself\u001b[0m\u001b[0;34m.\u001b[0m\u001b[0mid\u001b[0m\u001b[0;34m.\u001b[0m\u001b[0mread\u001b[0m\u001b[0;34m(\u001b[0m\u001b[0mmspace\u001b[0m\u001b[0;34m,\u001b[0m \u001b[0mfspace\u001b[0m\u001b[0;34m,\u001b[0m \u001b[0marr\u001b[0m\u001b[0;34m,\u001b[0m \u001b[0mmtype\u001b[0m\u001b[0;34m,\u001b[0m \u001b[0mdxpl\u001b[0m\u001b[0;34m=\u001b[0m\u001b[0mself\u001b[0m\u001b[0;34m.\u001b[0m\u001b[0m_dxpl\u001b[0m\u001b[0;34m)\u001b[0m\u001b[0;34m\u001b[0m\u001b[0m\n\u001b[0m\u001b[1;32m    483\u001b[0m \u001b[0;34m\u001b[0m\u001b[0m\n\u001b[1;32m    484\u001b[0m         \u001b[0;31m# Patch up the output for NumPy\u001b[0m\u001b[0;34m\u001b[0m\u001b[0;34m\u001b[0m\u001b[0m\n",
      "\u001b[0;31mKeyboardInterrupt\u001b[0m: "
     ]
    }
   ],
   "source": [
    "savedir = \"planet_results\"\n",
    "\n",
    "prot, prot_err = df.period, df.period_errm\n",
    "\n",
    "N = len(df)\n",
    "for i, id in enumerate(df.id_kic.values):\n",
    "    print(i, \"of\", N)\n",
    "    print(\"kepid = \", str(id).zfill(9))\n",
    "    \n",
    "    iso_params = {\"G\": (df.phot_g_mean_mag[i], df.phot_g_mean_mag[i]*.05),  # 5% uncertainties on photometry.\n",
    "                  \"bp\": (df.phot_bp_mean_mag[i], df.phot_bp_mean_mag[i]*.05),\n",
    "                  \"rp\": (df.phot_rp_mean_mag[i], df.phot_rp_mean_mag[i]*.05),\n",
    "                  \"J\": (df.kic_jmag[i], df.kic_jmag[i]*.05),\n",
    "                  \"H\": (df.kic_hmag[i], df.kic_hmag[i]*.05),\n",
    "                  \"K\": (df.kic_kmag[i], df.kic_kmag[i]*.05),\n",
    "                  \"teff\": (df.iso_steff[i], df.iso_steff_err2[i]),\n",
    "                  \"logg\": (df.iso_slogg[i], df.iso_slogg_err2[i]),\n",
    "                  \"feh\": (df.iso_smet[i], df.iso_smet_err2[i]),\n",
    "                  \"parallax\": (df.parallax[i], df.parallax_error[i])} \n",
    "    \n",
    "    st = ch.star(iso_params, prot[i], prot_err[i], savedir=savedir, suffix=str(id).zfill(9))\n",
    "    sampler = st.fit()\n",
    "\n",
    "    st.make_plots()"
   ]
  },
  {
   "cell_type": "code",
   "execution_count": 1,
   "metadata": {},
   "outputs": [
    {
     "ename": "NameError",
     "evalue": "name 'plt' is not defined",
     "output_type": "error",
     "traceback": [
      "\u001b[0;31m---------------------------------------------------------------------------\u001b[0m",
      "\u001b[0;31mNameError\u001b[0m                                 Traceback (most recent call last)",
      "\u001b[0;32m<ipython-input-1-6fbbe78108a8>\u001b[0m in \u001b[0;36m<module>\u001b[0;34m()\u001b[0m\n\u001b[0;32m----> 1\u001b[0;31m \u001b[0mplt\u001b[0m\u001b[0;34m.\u001b[0m\u001b[0mhist\u001b[0m\u001b[0;34m(\u001b[0m\u001b[0mprot_err\u001b[0m\u001b[0;34m/\u001b[0m\u001b[0mprot\u001b[0m\u001b[0;34m)\u001b[0m\u001b[0;34m;\u001b[0m\u001b[0;34m\u001b[0m\u001b[0m\n\u001b[0m",
      "\u001b[0;31mNameError\u001b[0m: name 'plt' is not defined"
     ]
    }
   ],
   "source": [
    "plt.hist(prot_err/prot);"
   ]
  },
  {
   "cell_type": "code",
   "execution_count": null,
   "metadata": {},
   "outputs": [],
   "source": []
  }
 ],
 "metadata": {
  "anaconda-cloud": {},
  "kernelspec": {
   "display_name": "Python [conda root]",
   "language": "python",
   "name": "conda-root-py"
  },
  "language_info": {
   "codemirror_mode": {
    "name": "ipython",
    "version": 3
   },
   "file_extension": ".py",
   "mimetype": "text/x-python",
   "name": "python",
   "nbconvert_exporter": "python",
   "pygments_lexer": "ipython3",
   "version": "3.5.2"
  }
 },
 "nbformat": 4,
 "nbformat_minor": 1
}
